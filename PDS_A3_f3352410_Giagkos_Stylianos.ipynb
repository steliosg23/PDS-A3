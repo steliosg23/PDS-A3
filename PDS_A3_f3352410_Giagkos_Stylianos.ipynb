{
  "nbformat": 4,
  "nbformat_minor": 0,
  "metadata": {
    "colab": {
      "provenance": [],
      "machine_shape": "hm",
      "gpuType": "A100"
    },
    "kernelspec": {
      "name": "python3",
      "display_name": "Python 3"
    },
    "language_info": {
      "name": "python"
    },
    "accelerator": "GPU"
  },
  "cells": [
    {
      "cell_type": "markdown",
      "source": [
        "##MSc Practical Data Science\n",
        "###Assignment 3\n",
        "###Part 2: Data Mining"
      ],
      "metadata": {
        "id": "h1mB9QsM5l2A"
      }
    },
    {
      "cell_type": "markdown",
      "source": [
        "### 1. Data Acquisition and Preprocessing:\n",
        "\n"
      ],
      "metadata": {
        "id": "V1RYRM9t6Exs"
      }
    },
    {
      "cell_type": "markdown",
      "source": [
        "####Downloading the \"GSV Cities\" Dataset"
      ],
      "metadata": {
        "id": "J-4CsLJD9GGW"
      }
    },
    {
      "cell_type": "markdown",
      "source": [
        "####Exploring the Dataset"
      ],
      "metadata": {
        "id": "jrcbSz_l9jYB"
      }
    },
    {
      "cell_type": "code",
      "execution_count": null,
      "metadata": {
        "id": "or-2TBlJ4-F5"
      },
      "outputs": [],
      "source": [
        "import os\n",
        "import kagglehub\n",
        "import pandas as pd\n",
        "from PIL import Image\n",
        "import numpy as np\n",
        "\n",
        "# Step 2: Explore the dataset\n",
        "# List the files in the dataset directory to understand its structure\n",
        "dataset_files = os.listdir(path)\n",
        "print(\"Dataset files:\", dataset_files)"
      ]
    },
    {
      "cell_type": "markdown",
      "source": [
        "###Explore the Files in the 'Dataframes' Folder"
      ],
      "metadata": {
        "id": "BP6TnuoKCpEY"
      }
    },
    {
      "cell_type": "code",
      "source": [
        "# List all files inside the 'Dataframes' folder\n",
        "dataframes_path = os.path.join(path, 'Dataframes')\n",
        "dataframe_files = os.listdir(dataframes_path)\n",
        "print(\"Files in the 'Dataframes' folder:\", dataframe_files)"
      ],
      "metadata": {
        "id": "c1YC4Zy9BPmK"
      },
      "execution_count": null,
      "outputs": []
    },
    {
      "cell_type": "markdown",
      "source": [
        "###Explore the Files in the 'Images' Folder"
      ],
      "metadata": {
        "id": "ZXeSsRtdCsv7"
      }
    },
    {
      "cell_type": "code",
      "source": [
        "# List all files inside the 'Images' folder\n",
        "images_path = os.path.join(path, 'Images')\n",
        "image_folders = os.listdir(images_path)\n",
        "print(\"Files in the 'Images' folder:\", image_folders)"
      ],
      "metadata": {
        "id": "oxer6j41CtXV"
      },
      "execution_count": null,
      "outputs": []
    },
    {
      "cell_type": "markdown",
      "source": [
        "###Count Photos for Each City:"
      ],
      "metadata": {
        "id": "Z4yPPpUbLN80"
      }
    },
    {
      "cell_type": "code",
      "source": [
        "# Initialize a dictionary to store the count of images for each city\n",
        "image_count = {}\n",
        "\n",
        "# Iterate through each city in the 'Images' folder\n",
        "for city in image_folders:\n",
        "    city_images_folder = os.path.join(images_path, city)\n",
        "\n",
        "    # List all files in the city's folder\n",
        "    image_files = os.listdir(city_images_folder)\n",
        "\n",
        "    # Filter out non-image files (if necessary) and count the number of images\n",
        "    image_files = [file for file in image_files if file.lower().endswith(('.png', '.jpg', '.jpeg', '.bmp', '.gif'))]\n",
        "\n",
        "    # Store the count in the dictionary\n",
        "    image_count[city] = len(image_files)\n",
        "\n",
        "# Display the count of images for each city\n",
        "print(\"Image count per city:\")\n",
        "for city, count in image_count.items():\n",
        "    print(f\"{city}: {count} images\")\n"
      ],
      "metadata": {
        "id": "K7nArEKALMnh"
      },
      "execution_count": null,
      "outputs": []
    },
    {
      "cell_type": "markdown",
      "source": [
        "###Load and Explore DataFrames"
      ],
      "metadata": {
        "id": "PhLOBc9YC48c"
      }
    },
    {
      "cell_type": "code",
      "source": [
        "# Inspect the first few rows of the CSV files in 'Dataframes'\n",
        "def explore_and_load_data():\n",
        "    dataframes = []\n",
        "    for csv_file in dataframe_files:\n",
        "        csv_path = os.path.join(dataframes_path, csv_file)\n",
        "        df = pd.read_csv(csv_path)\n",
        "        print(f\"\\nCity: {csv_file.split('.')[0]}\")\n",
        "        print(f\"\\nExploring {csv_file} file:\\n\")\n",
        "        print(df.head())  # Show the first few rows to understand the structure\n",
        "        print(f\"\\nMissing values in {csv_file}:\\n\")\n",
        "        print(df.isnull().sum())  # Check for missing values\n",
        "        dataframes.append(df)\n",
        "    return dataframes\n",
        "\n",
        "# Execute exploration function\n",
        "dataframes = explore_and_load_data()\n"
      ],
      "metadata": {
        "id": "YTCLTRRWC50P"
      },
      "execution_count": null,
      "outputs": []
    },
    {
      "cell_type": "code",
      "source": [],
      "metadata": {
        "id": "TlkFYv7ODiMI"
      },
      "execution_count": null,
      "outputs": []
    }
  ]
}